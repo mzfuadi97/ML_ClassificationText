{
  "cells": [
    {
      "cell_type": "code",
      "execution_count": 131,
      "id": "e20d7b7a",
      "metadata": {
        "colab": {
          "base_uri": "https://localhost:8080/"
        },
        "id": "e20d7b7a",
        "outputId": "9395eccf-721e-4f79-dc89-2051983c0227"
      },
      "outputs": [
        {
          "output_type": "stream",
          "name": "stdout",
          "text": [
            "Downloading spam-mails-dataset.zip to /content\n",
            "\r  0% 0.00/1.86M [00:00<?, ?B/s]\n",
            "\r100% 1.86M/1.86M [00:00<00:00, 132MB/s]\n"
          ]
        }
      ],
      "source": [
        "! chmod 600 /content/kaggle.json\n",
        "\n",
        "! KAGGLE_CONFIG_DIR=/content/ kaggle datasets download -d venky73/spam-mails-dataset"
      ]
    },
    {
      "cell_type": "code",
      "source": [
        "import zipfile\n",
        "zip_file = zipfile.ZipFile('/content/spam-mails-dataset.zip')\n",
        "zip_file.extractall('/tmp/')"
      ],
      "metadata": {
        "id": "b9yFwR0kHbmJ"
      },
      "id": "b9yFwR0kHbmJ",
      "execution_count": 132,
      "outputs": []
    },
    {
      "cell_type": "code",
      "source": [
        "import pandas as pd\n",
        "import numpy as np\n",
        "import matplotlib.pyplot as plt\n",
        "%matplotlib inline\n",
        "import seaborn as sns\n",
        "import re\n",
        "\n",
        "import pickle \n",
        "#import mglearn\n",
        "import time\n",
        "\n",
        "\n",
        "from tensorflow.keras.preprocessing.text import Tokenizer\n",
        "import nltk\n",
        "from nltk import Text\n",
        "from nltk.tokenize import regexp_tokenize\n",
        "from nltk.tokenize import word_tokenize  \n",
        "from nltk.tokenize import sent_tokenize \n",
        "from nltk.corpus import stopwords\n",
        "from nltk.stem import WordNetLemmatizer\n",
        "from nltk.stem import PorterStemmer\n",
        "\n",
        "\n",
        "from sklearn.feature_extraction.text import CountVectorizer\n",
        "from sklearn.feature_extraction.text import TfidfVectorizer\n",
        "from sklearn.linear_model import LogisticRegression \n",
        "from sklearn.naive_bayes import MultinomialNB\n",
        "from sklearn.multiclass import OneVsRestClassifier\n",
        "\n",
        "\n",
        "from sklearn.model_selection import cross_val_score\n",
        "from sklearn.model_selection import train_test_split\n",
        "from sklearn import metrics\n",
        "from sklearn.metrics import classification_report\n",
        "from sklearn.metrics import confusion_matrix\n",
        "from sklearn.model_selection import GridSearchCV\n",
        "from sklearn.pipeline import make_pipeline\n",
        "\n",
        "from sklearn.metrics import accuracy_score\n",
        "from sklearn.svm import LinearSVC\n",
        "\n",
        "import string\n",
        "import nltk\n",
        "nltk.download('stopwords')\n",
        "import re\n",
        "from nltk.corpus import stopwords\n",
        "from nltk.stem import PorterStemmer\n",
        "\n",
        "from tensorflow.keras.preprocessing.text import Tokenizer\n",
        "from tensorflow.keras.preprocessing.sequence import pad_sequences"
      ],
      "metadata": {
        "colab": {
          "base_uri": "https://localhost:8080/"
        },
        "id": "lUI-lKX3F8NM",
        "outputId": "005ae6a5-354e-49dd-c7c4-3cdc3f04c695"
      },
      "id": "lUI-lKX3F8NM",
      "execution_count": 3,
      "outputs": [
        {
          "output_type": "stream",
          "name": "stderr",
          "text": [
            "[nltk_data] Downloading package stopwords to /root/nltk_data...\n",
            "[nltk_data]   Unzipping corpora/stopwords.zip.\n"
          ]
        }
      ]
    },
    {
      "cell_type": "markdown",
      "source": [
        "### IMPORT DATA"
      ],
      "metadata": {
        "id": "DLcTVSafH6sy"
      },
      "id": "DLcTVSafH6sy"
    },
    {
      "cell_type": "code",
      "execution_count": 134,
      "id": "2993ff28",
      "metadata": {
        "colab": {
          "base_uri": "https://localhost:8080/",
          "height": 206
        },
        "id": "2993ff28",
        "outputId": "ff94db29-3c2c-4907-a7b4-e38e078e6298"
      },
      "outputs": [
        {
          "output_type": "execute_result",
          "data": {
            "text/plain": [
              "  label                                               text\n",
              "0   ham  Subject: enron methanol ; meter # : 988291\\r\\n...\n",
              "1   ham  Subject: hpl nom for january 9 , 2001\\r\\n( see...\n",
              "2   ham  Subject: neon retreat\\r\\nho ho ho , we ' re ar...\n",
              "3  spam  Subject: photoshop , windows , office . cheap ...\n",
              "4   ham  Subject: re : indian springs\\r\\nthis deal is t..."
            ],
            "text/html": [
              "\n",
              "  <div id=\"df-7bb06e5f-3698-4b63-b076-300a116fabc6\">\n",
              "    <div class=\"colab-df-container\">\n",
              "      <div>\n",
              "<style scoped>\n",
              "    .dataframe tbody tr th:only-of-type {\n",
              "        vertical-align: middle;\n",
              "    }\n",
              "\n",
              "    .dataframe tbody tr th {\n",
              "        vertical-align: top;\n",
              "    }\n",
              "\n",
              "    .dataframe thead th {\n",
              "        text-align: right;\n",
              "    }\n",
              "</style>\n",
              "<table border=\"1\" class=\"dataframe\">\n",
              "  <thead>\n",
              "    <tr style=\"text-align: right;\">\n",
              "      <th></th>\n",
              "      <th>label</th>\n",
              "      <th>text</th>\n",
              "    </tr>\n",
              "  </thead>\n",
              "  <tbody>\n",
              "    <tr>\n",
              "      <th>0</th>\n",
              "      <td>ham</td>\n",
              "      <td>Subject: enron methanol ; meter # : 988291\\r\\n...</td>\n",
              "    </tr>\n",
              "    <tr>\n",
              "      <th>1</th>\n",
              "      <td>ham</td>\n",
              "      <td>Subject: hpl nom for january 9 , 2001\\r\\n( see...</td>\n",
              "    </tr>\n",
              "    <tr>\n",
              "      <th>2</th>\n",
              "      <td>ham</td>\n",
              "      <td>Subject: neon retreat\\r\\nho ho ho , we ' re ar...</td>\n",
              "    </tr>\n",
              "    <tr>\n",
              "      <th>3</th>\n",
              "      <td>spam</td>\n",
              "      <td>Subject: photoshop , windows , office . cheap ...</td>\n",
              "    </tr>\n",
              "    <tr>\n",
              "      <th>4</th>\n",
              "      <td>ham</td>\n",
              "      <td>Subject: re : indian springs\\r\\nthis deal is t...</td>\n",
              "    </tr>\n",
              "  </tbody>\n",
              "</table>\n",
              "</div>\n",
              "      <button class=\"colab-df-convert\" onclick=\"convertToInteractive('df-7bb06e5f-3698-4b63-b076-300a116fabc6')\"\n",
              "              title=\"Convert this dataframe to an interactive table.\"\n",
              "              style=\"display:none;\">\n",
              "        \n",
              "  <svg xmlns=\"http://www.w3.org/2000/svg\" height=\"24px\"viewBox=\"0 0 24 24\"\n",
              "       width=\"24px\">\n",
              "    <path d=\"M0 0h24v24H0V0z\" fill=\"none\"/>\n",
              "    <path d=\"M18.56 5.44l.94 2.06.94-2.06 2.06-.94-2.06-.94-.94-2.06-.94 2.06-2.06.94zm-11 1L8.5 8.5l.94-2.06 2.06-.94-2.06-.94L8.5 2.5l-.94 2.06-2.06.94zm10 10l.94 2.06.94-2.06 2.06-.94-2.06-.94-.94-2.06-.94 2.06-2.06.94z\"/><path d=\"M17.41 7.96l-1.37-1.37c-.4-.4-.92-.59-1.43-.59-.52 0-1.04.2-1.43.59L10.3 9.45l-7.72 7.72c-.78.78-.78 2.05 0 2.83L4 21.41c.39.39.9.59 1.41.59.51 0 1.02-.2 1.41-.59l7.78-7.78 2.81-2.81c.8-.78.8-2.07 0-2.86zM5.41 20L4 18.59l7.72-7.72 1.47 1.35L5.41 20z\"/>\n",
              "  </svg>\n",
              "      </button>\n",
              "      \n",
              "  <style>\n",
              "    .colab-df-container {\n",
              "      display:flex;\n",
              "      flex-wrap:wrap;\n",
              "      gap: 12px;\n",
              "    }\n",
              "\n",
              "    .colab-df-convert {\n",
              "      background-color: #E8F0FE;\n",
              "      border: none;\n",
              "      border-radius: 50%;\n",
              "      cursor: pointer;\n",
              "      display: none;\n",
              "      fill: #1967D2;\n",
              "      height: 32px;\n",
              "      padding: 0 0 0 0;\n",
              "      width: 32px;\n",
              "    }\n",
              "\n",
              "    .colab-df-convert:hover {\n",
              "      background-color: #E2EBFA;\n",
              "      box-shadow: 0px 1px 2px rgba(60, 64, 67, 0.3), 0px 1px 3px 1px rgba(60, 64, 67, 0.15);\n",
              "      fill: #174EA6;\n",
              "    }\n",
              "\n",
              "    [theme=dark] .colab-df-convert {\n",
              "      background-color: #3B4455;\n",
              "      fill: #D2E3FC;\n",
              "    }\n",
              "\n",
              "    [theme=dark] .colab-df-convert:hover {\n",
              "      background-color: #434B5C;\n",
              "      box-shadow: 0px 1px 3px 1px rgba(0, 0, 0, 0.15);\n",
              "      filter: drop-shadow(0px 1px 2px rgba(0, 0, 0, 0.3));\n",
              "      fill: #FFFFFF;\n",
              "    }\n",
              "  </style>\n",
              "\n",
              "      <script>\n",
              "        const buttonEl =\n",
              "          document.querySelector('#df-7bb06e5f-3698-4b63-b076-300a116fabc6 button.colab-df-convert');\n",
              "        buttonEl.style.display =\n",
              "          google.colab.kernel.accessAllowed ? 'block' : 'none';\n",
              "\n",
              "        async function convertToInteractive(key) {\n",
              "          const element = document.querySelector('#df-7bb06e5f-3698-4b63-b076-300a116fabc6');\n",
              "          const dataTable =\n",
              "            await google.colab.kernel.invokeFunction('convertToInteractive',\n",
              "                                                     [key], {});\n",
              "          if (!dataTable) return;\n",
              "\n",
              "          const docLinkHtml = 'Like what you see? Visit the ' +\n",
              "            '<a target=\"_blank\" href=https://colab.research.google.com/notebooks/data_table.ipynb>data table notebook</a>'\n",
              "            + ' to learn more about interactive tables.';\n",
              "          element.innerHTML = '';\n",
              "          dataTable['output_type'] = 'display_data';\n",
              "          await google.colab.output.renderOutput(dataTable, element);\n",
              "          const docLink = document.createElement('div');\n",
              "          docLink.innerHTML = docLinkHtml;\n",
              "          element.appendChild(docLink);\n",
              "        }\n",
              "      </script>\n",
              "    </div>\n",
              "  </div>\n",
              "  "
            ]
          },
          "metadata": {},
          "execution_count": 134
        }
      ],
      "source": [
        "df = pd.read_csv('/tmp/spam_ham_dataset.csv')\n",
        "df.drop(['label_num','Unnamed: 0'],axis=1, inplace=True)\n",
        "df.head()"
      ]
    },
    {
      "cell_type": "markdown",
      "id": "08a01528",
      "metadata": {
        "id": "08a01528"
      },
      "source": [
        "### Data Cleansing"
      ]
    },
    {
      "cell_type": "code",
      "execution_count": 135,
      "id": "bbf9089b",
      "metadata": {
        "colab": {
          "base_uri": "https://localhost:8080/"
        },
        "id": "bbf9089b",
        "outputId": "608d9d9b-84d6-4cc4-80aa-b7c5b5f083f9"
      },
      "outputs": [
        {
          "output_type": "execute_result",
          "data": {
            "text/plain": [
              "label    0\n",
              "text     0\n",
              "dtype: int64"
            ]
          },
          "metadata": {},
          "execution_count": 135
        }
      ],
      "source": [
        "# Cek apakah ada nilai Null\n",
        "df.isnull().sum()"
      ]
    },
    {
      "cell_type": "code",
      "execution_count": 139,
      "id": "4c773a7b",
      "metadata": {
        "colab": {
          "base_uri": "https://localhost:8080/"
        },
        "id": "4c773a7b",
        "outputId": "13e0cb1e-7d12-425d-e287-78efc8b3c086"
      },
      "outputs": [
        {
          "output_type": "execute_result",
          "data": {
            "text/plain": [
              "2"
            ]
          },
          "metadata": {},
          "execution_count": 139
        }
      ],
      "source": [
        "# Membuat Aggregat\n",
        "df['Count']=1\n",
        "df[['label','Count']].groupby(['label'], as_index=False).count().shape[0]"
      ]
    },
    {
      "cell_type": "code",
      "execution_count": 140,
      "id": "7ba02bab",
      "metadata": {
        "colab": {
          "base_uri": "https://localhost:8080/",
          "height": 112
        },
        "id": "7ba02bab",
        "outputId": "2bc11e96-f469-40e4-a26c-8ad8a02be311"
      },
      "outputs": [
        {
          "output_type": "execute_result",
          "data": {
            "text/plain": [
              "  label  Count\n",
              "0   ham   3672\n",
              "1  spam   1499"
            ],
            "text/html": [
              "\n",
              "  <div id=\"df-94b03f0d-2082-472c-bdc8-b69004551089\">\n",
              "    <div class=\"colab-df-container\">\n",
              "      <div>\n",
              "<style scoped>\n",
              "    .dataframe tbody tr th:only-of-type {\n",
              "        vertical-align: middle;\n",
              "    }\n",
              "\n",
              "    .dataframe tbody tr th {\n",
              "        vertical-align: top;\n",
              "    }\n",
              "\n",
              "    .dataframe thead th {\n",
              "        text-align: right;\n",
              "    }\n",
              "</style>\n",
              "<table border=\"1\" class=\"dataframe\">\n",
              "  <thead>\n",
              "    <tr style=\"text-align: right;\">\n",
              "      <th></th>\n",
              "      <th>label</th>\n",
              "      <th>Count</th>\n",
              "    </tr>\n",
              "  </thead>\n",
              "  <tbody>\n",
              "    <tr>\n",
              "      <th>0</th>\n",
              "      <td>ham</td>\n",
              "      <td>3672</td>\n",
              "    </tr>\n",
              "    <tr>\n",
              "      <th>1</th>\n",
              "      <td>spam</td>\n",
              "      <td>1499</td>\n",
              "    </tr>\n",
              "  </tbody>\n",
              "</table>\n",
              "</div>\n",
              "      <button class=\"colab-df-convert\" onclick=\"convertToInteractive('df-94b03f0d-2082-472c-bdc8-b69004551089')\"\n",
              "              title=\"Convert this dataframe to an interactive table.\"\n",
              "              style=\"display:none;\">\n",
              "        \n",
              "  <svg xmlns=\"http://www.w3.org/2000/svg\" height=\"24px\"viewBox=\"0 0 24 24\"\n",
              "       width=\"24px\">\n",
              "    <path d=\"M0 0h24v24H0V0z\" fill=\"none\"/>\n",
              "    <path d=\"M18.56 5.44l.94 2.06.94-2.06 2.06-.94-2.06-.94-.94-2.06-.94 2.06-2.06.94zm-11 1L8.5 8.5l.94-2.06 2.06-.94-2.06-.94L8.5 2.5l-.94 2.06-2.06.94zm10 10l.94 2.06.94-2.06 2.06-.94-2.06-.94-.94-2.06-.94 2.06-2.06.94z\"/><path d=\"M17.41 7.96l-1.37-1.37c-.4-.4-.92-.59-1.43-.59-.52 0-1.04.2-1.43.59L10.3 9.45l-7.72 7.72c-.78.78-.78 2.05 0 2.83L4 21.41c.39.39.9.59 1.41.59.51 0 1.02-.2 1.41-.59l7.78-7.78 2.81-2.81c.8-.78.8-2.07 0-2.86zM5.41 20L4 18.59l7.72-7.72 1.47 1.35L5.41 20z\"/>\n",
              "  </svg>\n",
              "      </button>\n",
              "      \n",
              "  <style>\n",
              "    .colab-df-container {\n",
              "      display:flex;\n",
              "      flex-wrap:wrap;\n",
              "      gap: 12px;\n",
              "    }\n",
              "\n",
              "    .colab-df-convert {\n",
              "      background-color: #E8F0FE;\n",
              "      border: none;\n",
              "      border-radius: 50%;\n",
              "      cursor: pointer;\n",
              "      display: none;\n",
              "      fill: #1967D2;\n",
              "      height: 32px;\n",
              "      padding: 0 0 0 0;\n",
              "      width: 32px;\n",
              "    }\n",
              "\n",
              "    .colab-df-convert:hover {\n",
              "      background-color: #E2EBFA;\n",
              "      box-shadow: 0px 1px 2px rgba(60, 64, 67, 0.3), 0px 1px 3px 1px rgba(60, 64, 67, 0.15);\n",
              "      fill: #174EA6;\n",
              "    }\n",
              "\n",
              "    [theme=dark] .colab-df-convert {\n",
              "      background-color: #3B4455;\n",
              "      fill: #D2E3FC;\n",
              "    }\n",
              "\n",
              "    [theme=dark] .colab-df-convert:hover {\n",
              "      background-color: #434B5C;\n",
              "      box-shadow: 0px 1px 3px 1px rgba(0, 0, 0, 0.15);\n",
              "      filter: drop-shadow(0px 1px 2px rgba(0, 0, 0, 0.3));\n",
              "      fill: #FFFFFF;\n",
              "    }\n",
              "  </style>\n",
              "\n",
              "      <script>\n",
              "        const buttonEl =\n",
              "          document.querySelector('#df-94b03f0d-2082-472c-bdc8-b69004551089 button.colab-df-convert');\n",
              "        buttonEl.style.display =\n",
              "          google.colab.kernel.accessAllowed ? 'block' : 'none';\n",
              "\n",
              "        async function convertToInteractive(key) {\n",
              "          const element = document.querySelector('#df-94b03f0d-2082-472c-bdc8-b69004551089');\n",
              "          const dataTable =\n",
              "            await google.colab.kernel.invokeFunction('convertToInteractive',\n",
              "                                                     [key], {});\n",
              "          if (!dataTable) return;\n",
              "\n",
              "          const docLinkHtml = 'Like what you see? Visit the ' +\n",
              "            '<a target=\"_blank\" href=https://colab.research.google.com/notebooks/data_table.ipynb>data table notebook</a>'\n",
              "            + ' to learn more about interactive tables.';\n",
              "          element.innerHTML = '';\n",
              "          dataTable['output_type'] = 'display_data';\n",
              "          await google.colab.output.renderOutput(dataTable, element);\n",
              "          const docLink = document.createElement('div');\n",
              "          docLink.innerHTML = docLinkHtml;\n",
              "          element.appendChild(docLink);\n",
              "        }\n",
              "      </script>\n",
              "    </div>\n",
              "  </div>\n",
              "  "
            ]
          },
          "metadata": {},
          "execution_count": 140
        }
      ],
      "source": [
        "# Cek Jumlah label / Persebaran label\n",
        "df[['label','Count']].groupby(['label'],as_index=False).count().sort_values(['Count'], ascending=False).head(10)"
      ]
    },
    {
      "cell_type": "code",
      "source": [
        "import cleantext\n",
        "# Fungsi Cleansing text\n",
        "def clean_text(text):\n",
        "    text = text.lower()\n",
        "    text = re.sub(r\"(@\\[A-Za-z0-9]+)|([^0-9A-Za-z \\t])|(\\w+:\\/\\/\\S+)|^rt|http.+?\", \"\", text)\n",
        "    text = re.sub(r\"\\'s\", \" \", text)\n",
        "    text = re.sub(r\"\\'ve\", \" have \", text)\n",
        "    text = re.sub(r\"can't\", \"can not \", text)\n",
        "    text = re.sub(r\"n't\", \" not \", text)\n",
        "    text = re.sub(r\"i'm\", \"i am \", text)\n",
        "    text = re.sub(r\"\\'re\", \" are \", text)\n",
        "    text = re.sub(r\"\\'d\", \" would \", text)\n",
        "    text = re.sub(r\"\\'ll\", \" will \", text)\n",
        "    text = re.sub(r\"\\'scuse\", \" excuse \", text)\n",
        "    text = re.sub(r\"\\':\", \"\", text)\n",
        "    text = re.sub(r\"\\'subject :\", \" \", text)\n",
        "    #text = re.sub('\\W', ' ', text)\n",
        "    #text = re.sub('\\s+', ' ', text)\n",
        "    text = text.translate(str.maketrans('', '', string.punctuation))\n",
        "    text = cleantext.clean(text)\n",
        "    # text = cleantext.clean_words(text)\n",
        "    text = text.strip(' ')\n",
        "    return text"
      ],
      "metadata": {
        "id": "9rQ18qggMVsf"
      },
      "id": "9rQ18qggMVsf",
      "execution_count": 194,
      "outputs": []
    },
    {
      "cell_type": "code",
      "execution_count": 195,
      "id": "c273b6e5",
      "metadata": {
        "colab": {
          "base_uri": "https://localhost:8080/"
        },
        "id": "c273b6e5",
        "outputId": "48c1342f-f1d8-41bb-922f-9d3c98c3d2c6"
      },
      "outputs": [
        {
          "output_type": "execute_result",
          "data": {
            "text/plain": [
              "['subject vocabl rnd word asceticismvcsc brand new stock attentionvocalscap inc stock symbol vcscvcsc top stock pick month april stock expect tobounc cent levelth stock hit time low bounc backstock go explod next day watch soarwatch stock go crazi next week break news vocalscap inc announc agreement resel mix networkservicescurr price expect project specul price next day expect project specul price next day vocalscap network inc build compani revolution thetelecommun industri afford phone system hardwar onlin softwar rate canada us vocalscap compani withglob reach receiv intern attent develop voiceov ip voip applic solut includ award win eyefontm asoftphon real time pc phone advanc implement pbxsystem compani call center itsp servic provid vocalscap creat softwar interact solut revolv aroundglob commun data voic converg compani use vocalscap forvoic internet protocol applic like ip pbx softswitch pc phoneand web phone provid real time human interact inform deliveryov internet vocalscap solut busi offer aqual voic servic anywher world rate significantlylow current long distanc charg develop softwar run voipnetwork sell instal servic brand voip gateway andgatekeep control softwar also licens softwar custom wantto brand voip solut vocalscap commit make great technolog challeng statu quo build st centuri compani chang way busi communicateand interact internet current price expect project specul price next day expect project specul price next day break news vocalscap inc announc agreement resel mix networkservic katonah n prnewswir firstcal via comtex vocalscap inc pink vcsc emerg leader develop voic internet protocol voip telephoni solut announc today enter sale agent agreementwith mix network inc voip enhanc telephoni servic provid agreement provid vocalscap turnkey call card custom accessto mix network servic includ north american did phone number anddomest long distanc termin vocalscap also abl suppli theirclient enhanc voip product includ pre paid call mixnetwork north american network excit help compani launch voip busi model use solutionwith whole pictur softwar network need rout thecal mix network give us abil offer wholesal monthli flat rateplan did client allow us build busi model likepopular voip compani vonag packet say ryan gibson vpvocalscap networkssom legal word continu inform within email contain forward look statement within themean section secur act section b thesecur exchang act statement express involvediscuss respect predict goal expect belief plan project object assumpt futur event perform notstat histor fact may forward look statement forwardlook statement base expect estim project thetim statement made involv number risk uncertaintieswhich could caus actual result event differ materi thosepres anticip forward look statement action may beidentifi use word project forese expect estim believ understand part anticip thatbi statement indic certain action may could might occur allinform provid within email pertain invest stock secur must understood inform provid invest advic emerg equiti alert advis reader subscrib seek advic aregist profession secur repres decid trade instock featur within email none materi within report shallb constru kind invest advic pleas mind theinterpret witer newslett news publish thecompani repres compani offici statement fact may differfrom real mean news releas meant say look newsreleas judg detail complianc section b disclos hold vcsc share priorto public report awar inher conflict interestresult hold due intent profit liquid ofthes share share may sold time even posit statementshav made regard compani sinc share aninher conflict interest statement opinion reader thispubl caution place undu relianc forward lookingstat base certain assumpt expect involvingvari risk uncertainti could caus result differ materiallyfrom set forth forward look statement pleas advis noth within email shall constitut solicitationor invit get posit sell secur mention herein thisnewslett neither regist invest advisor affili anybrok dealer newslett paid third parti send thisreport statement made express opinion treateda may take posit sell secur mention anytim report includ forward look statement within mean thepriv secur litig reform act statement may includeterm project specul price expect believ may soar move undervalu intend similar term',\n",
              " 'subject report wffur attion brom est inst siupi pgst riw asent rest tont presyou tew con benco yee fater ust lyughtatum inenc sorepit grather aici graghteav allar oariti wow yur coon mer oit ithat yoit berst thar enth exciv']"
            ]
          },
          "metadata": {},
          "execution_count": 195
        }
      ],
      "source": [
        "list(df['text'][10:12].apply(clean_text))"
      ]
    },
    {
      "cell_type": "code",
      "execution_count": 197,
      "id": "82450b30",
      "metadata": {
        "id": "82450b30",
        "colab": {
          "base_uri": "https://localhost:8080/",
          "height": 206
        },
        "outputId": "3a8320ee-53b5-418f-893e-ebd83d9f351b"
      },
      "outputs": [
        {
          "output_type": "execute_result",
          "data": {
            "text/plain": [
              "  label                                               text  Count  \\\n",
              "0   ham  Subject: enron methanol ; meter # : 988291\\r\\n...      1   \n",
              "1   ham  Subject: hpl nom for january 9 , 2001\\r\\n( see...      1   \n",
              "2   ham  Subject: neon retreat\\r\\nho ho ho , we ' re ar...      1   \n",
              "3  spam  Subject: photoshop , windows , office . cheap ...      1   \n",
              "4   ham  Subject: re : indian springs\\r\\nthis deal is t...      1   \n",
              "\n",
              "                                           textClean  \n",
              "0   enron methanol meter follow note gave monday ...  \n",
              "1   hpl nom januari see attach file hplnol xl hpl...  \n",
              "2   neon retreatho ho ho around wonder time year ...  \n",
              "3   photoshop window offic cheap main trendingaba...  \n",
              "4   indian springsthi deal book teco pvr revenu u...  "
            ],
            "text/html": [
              "\n",
              "  <div id=\"df-3150d14c-f901-4dc3-ab83-61849ed1a2d7\">\n",
              "    <div class=\"colab-df-container\">\n",
              "      <div>\n",
              "<style scoped>\n",
              "    .dataframe tbody tr th:only-of-type {\n",
              "        vertical-align: middle;\n",
              "    }\n",
              "\n",
              "    .dataframe tbody tr th {\n",
              "        vertical-align: top;\n",
              "    }\n",
              "\n",
              "    .dataframe thead th {\n",
              "        text-align: right;\n",
              "    }\n",
              "</style>\n",
              "<table border=\"1\" class=\"dataframe\">\n",
              "  <thead>\n",
              "    <tr style=\"text-align: right;\">\n",
              "      <th></th>\n",
              "      <th>label</th>\n",
              "      <th>text</th>\n",
              "      <th>Count</th>\n",
              "      <th>textClean</th>\n",
              "    </tr>\n",
              "  </thead>\n",
              "  <tbody>\n",
              "    <tr>\n",
              "      <th>0</th>\n",
              "      <td>ham</td>\n",
              "      <td>Subject: enron methanol ; meter # : 988291\\r\\n...</td>\n",
              "      <td>1</td>\n",
              "      <td>enron methanol meter follow note gave monday ...</td>\n",
              "    </tr>\n",
              "    <tr>\n",
              "      <th>1</th>\n",
              "      <td>ham</td>\n",
              "      <td>Subject: hpl nom for january 9 , 2001\\r\\n( see...</td>\n",
              "      <td>1</td>\n",
              "      <td>hpl nom januari see attach file hplnol xl hpl...</td>\n",
              "    </tr>\n",
              "    <tr>\n",
              "      <th>2</th>\n",
              "      <td>ham</td>\n",
              "      <td>Subject: neon retreat\\r\\nho ho ho , we ' re ar...</td>\n",
              "      <td>1</td>\n",
              "      <td>neon retreatho ho ho around wonder time year ...</td>\n",
              "    </tr>\n",
              "    <tr>\n",
              "      <th>3</th>\n",
              "      <td>spam</td>\n",
              "      <td>Subject: photoshop , windows , office . cheap ...</td>\n",
              "      <td>1</td>\n",
              "      <td>photoshop window offic cheap main trendingaba...</td>\n",
              "    </tr>\n",
              "    <tr>\n",
              "      <th>4</th>\n",
              "      <td>ham</td>\n",
              "      <td>Subject: re : indian springs\\r\\nthis deal is t...</td>\n",
              "      <td>1</td>\n",
              "      <td>indian springsthi deal book teco pvr revenu u...</td>\n",
              "    </tr>\n",
              "  </tbody>\n",
              "</table>\n",
              "</div>\n",
              "      <button class=\"colab-df-convert\" onclick=\"convertToInteractive('df-3150d14c-f901-4dc3-ab83-61849ed1a2d7')\"\n",
              "              title=\"Convert this dataframe to an interactive table.\"\n",
              "              style=\"display:none;\">\n",
              "        \n",
              "  <svg xmlns=\"http://www.w3.org/2000/svg\" height=\"24px\"viewBox=\"0 0 24 24\"\n",
              "       width=\"24px\">\n",
              "    <path d=\"M0 0h24v24H0V0z\" fill=\"none\"/>\n",
              "    <path d=\"M18.56 5.44l.94 2.06.94-2.06 2.06-.94-2.06-.94-.94-2.06-.94 2.06-2.06.94zm-11 1L8.5 8.5l.94-2.06 2.06-.94-2.06-.94L8.5 2.5l-.94 2.06-2.06.94zm10 10l.94 2.06.94-2.06 2.06-.94-2.06-.94-.94-2.06-.94 2.06-2.06.94z\"/><path d=\"M17.41 7.96l-1.37-1.37c-.4-.4-.92-.59-1.43-.59-.52 0-1.04.2-1.43.59L10.3 9.45l-7.72 7.72c-.78.78-.78 2.05 0 2.83L4 21.41c.39.39.9.59 1.41.59.51 0 1.02-.2 1.41-.59l7.78-7.78 2.81-2.81c.8-.78.8-2.07 0-2.86zM5.41 20L4 18.59l7.72-7.72 1.47 1.35L5.41 20z\"/>\n",
              "  </svg>\n",
              "      </button>\n",
              "      \n",
              "  <style>\n",
              "    .colab-df-container {\n",
              "      display:flex;\n",
              "      flex-wrap:wrap;\n",
              "      gap: 12px;\n",
              "    }\n",
              "\n",
              "    .colab-df-convert {\n",
              "      background-color: #E8F0FE;\n",
              "      border: none;\n",
              "      border-radius: 50%;\n",
              "      cursor: pointer;\n",
              "      display: none;\n",
              "      fill: #1967D2;\n",
              "      height: 32px;\n",
              "      padding: 0 0 0 0;\n",
              "      width: 32px;\n",
              "    }\n",
              "\n",
              "    .colab-df-convert:hover {\n",
              "      background-color: #E2EBFA;\n",
              "      box-shadow: 0px 1px 2px rgba(60, 64, 67, 0.3), 0px 1px 3px 1px rgba(60, 64, 67, 0.15);\n",
              "      fill: #174EA6;\n",
              "    }\n",
              "\n",
              "    [theme=dark] .colab-df-convert {\n",
              "      background-color: #3B4455;\n",
              "      fill: #D2E3FC;\n",
              "    }\n",
              "\n",
              "    [theme=dark] .colab-df-convert:hover {\n",
              "      background-color: #434B5C;\n",
              "      box-shadow: 0px 1px 3px 1px rgba(0, 0, 0, 0.15);\n",
              "      filter: drop-shadow(0px 1px 2px rgba(0, 0, 0, 0.3));\n",
              "      fill: #FFFFFF;\n",
              "    }\n",
              "  </style>\n",
              "\n",
              "      <script>\n",
              "        const buttonEl =\n",
              "          document.querySelector('#df-3150d14c-f901-4dc3-ab83-61849ed1a2d7 button.colab-df-convert');\n",
              "        buttonEl.style.display =\n",
              "          google.colab.kernel.accessAllowed ? 'block' : 'none';\n",
              "\n",
              "        async function convertToInteractive(key) {\n",
              "          const element = document.querySelector('#df-3150d14c-f901-4dc3-ab83-61849ed1a2d7');\n",
              "          const dataTable =\n",
              "            await google.colab.kernel.invokeFunction('convertToInteractive',\n",
              "                                                     [key], {});\n",
              "          if (!dataTable) return;\n",
              "\n",
              "          const docLinkHtml = 'Like what you see? Visit the ' +\n",
              "            '<a target=\"_blank\" href=https://colab.research.google.com/notebooks/data_table.ipynb>data table notebook</a>'\n",
              "            + ' to learn more about interactive tables.';\n",
              "          element.innerHTML = '';\n",
              "          dataTable['output_type'] = 'display_data';\n",
              "          await google.colab.output.renderOutput(dataTable, element);\n",
              "          const docLink = document.createElement('div');\n",
              "          docLink.innerHTML = docLinkHtml;\n",
              "          element.appendChild(docLink);\n",
              "        }\n",
              "      </script>\n",
              "    </div>\n",
              "  </div>\n",
              "  "
            ]
          },
          "metadata": {},
          "execution_count": 197
        }
      ],
      "source": [
        "df['textClean'] = df['text'].apply(clean_text)\n",
        "df['textClean']= df['textClean'].str.replace('subject',\"\")\n",
        "df.head()"
      ]
    },
    {
      "cell_type": "code",
      "source": [
        "from nltk.corpus import stopwords\n",
        "nltk.download('stopwords')\n",
        "from nltk.stem import PorterStemmer\n",
        "\n",
        "stop_words=stopwords.words('english')\n",
        "stemmer=PorterStemmer()\n",
        "\n",
        "X = df['textClean']\n",
        "\n"
      ],
      "metadata": {
        "colab": {
          "base_uri": "https://localhost:8080/"
        },
        "id": "HzxaoFB34DP5",
        "outputId": "78f1b8de-17f1-48d1-a952-3359dbc25cba"
      },
      "id": "HzxaoFB34DP5",
      "execution_count": 203,
      "outputs": [
        {
          "output_type": "stream",
          "name": "stderr",
          "text": [
            "[nltk_data] Downloading package stopwords to /root/nltk_data...\n",
            "[nltk_data]   Package stopwords is already up-to-date!\n"
          ]
        }
      ]
    },
    {
      "cell_type": "code",
      "source": [
        "import re\n",
        "cleaned_data=[]\n",
        "for i in range(len(X)):\n",
        "   text=re.sub('[^a-zA-Z]',' ',X.iloc[i])\n",
        "   text=text.lower().split()\n",
        "   text=[stemmer.stem(word) for word in text if (word not in stop_words)]\n",
        "   text=' '.join(text)\n",
        "   cleaned_data.append(text)"
      ],
      "metadata": {
        "id": "iTz3k0xn4QI_"
      },
      "id": "iTz3k0xn4QI_",
      "execution_count": 206,
      "outputs": []
    },
    {
      "cell_type": "code",
      "source": [
        "df['textClean'] = cleaned_data"
      ],
      "metadata": {
        "id": "hyrFba955LTz"
      },
      "id": "hyrFba955LTz",
      "execution_count": 208,
      "outputs": []
    },
    {
      "cell_type": "code",
      "execution_count": 209,
      "id": "21830a84",
      "metadata": {
        "colab": {
          "base_uri": "https://localhost:8080/",
          "height": 238
        },
        "id": "21830a84",
        "outputId": "805499e0-bd05-4ce6-9406-9d96b05b2fea"
      },
      "outputs": [
        {
          "output_type": "execute_result",
          "data": {
            "text/plain": [
              "                                                 text  \\\n",
              "6   Subject: spring savings certificate - take 30 ...   \n",
              "7   Subject: looking for medication ? we ` re the ...   \n",
              "8   Subject: noms / actual flow for 2 / 26\\r\\nwe a...   \n",
              "9   Subject: nominations for oct . 21 - 23 , 2000\\...   \n",
              "10  Subject: vocable % rnd - word asceticism\\r\\nvc...   \n",
              "11  Subject: report 01405 !\\r\\nwffur attion brom e...   \n",
              "\n",
              "                                            textClean label  \n",
              "6   spring save certif take offsav use custom appr...   ham  \n",
              "7   look medic best sourc difficult make materi co...  spam  \n",
              "8   nom actual flow agr forward melissa jone texa ...   ham  \n",
              "9         nomin oct see attach file hplnl xl hplnl xl   ham  \n",
              "10  vocabl rnd word asceticismvcsc brand new stock...  spam  \n",
              "11  report wffur attion brom est inst siupi pgst r...  spam  "
            ],
            "text/html": [
              "\n",
              "  <div id=\"df-5af13f41-763e-4de7-b303-d69a9d134957\">\n",
              "    <div class=\"colab-df-container\">\n",
              "      <div>\n",
              "<style scoped>\n",
              "    .dataframe tbody tr th:only-of-type {\n",
              "        vertical-align: middle;\n",
              "    }\n",
              "\n",
              "    .dataframe tbody tr th {\n",
              "        vertical-align: top;\n",
              "    }\n",
              "\n",
              "    .dataframe thead th {\n",
              "        text-align: right;\n",
              "    }\n",
              "</style>\n",
              "<table border=\"1\" class=\"dataframe\">\n",
              "  <thead>\n",
              "    <tr style=\"text-align: right;\">\n",
              "      <th></th>\n",
              "      <th>text</th>\n",
              "      <th>textClean</th>\n",
              "      <th>label</th>\n",
              "    </tr>\n",
              "  </thead>\n",
              "  <tbody>\n",
              "    <tr>\n",
              "      <th>6</th>\n",
              "      <td>Subject: spring savings certificate - take 30 ...</td>\n",
              "      <td>spring save certif take offsav use custom appr...</td>\n",
              "      <td>ham</td>\n",
              "    </tr>\n",
              "    <tr>\n",
              "      <th>7</th>\n",
              "      <td>Subject: looking for medication ? we ` re the ...</td>\n",
              "      <td>look medic best sourc difficult make materi co...</td>\n",
              "      <td>spam</td>\n",
              "    </tr>\n",
              "    <tr>\n",
              "      <th>8</th>\n",
              "      <td>Subject: noms / actual flow for 2 / 26\\r\\nwe a...</td>\n",
              "      <td>nom actual flow agr forward melissa jone texa ...</td>\n",
              "      <td>ham</td>\n",
              "    </tr>\n",
              "    <tr>\n",
              "      <th>9</th>\n",
              "      <td>Subject: nominations for oct . 21 - 23 , 2000\\...</td>\n",
              "      <td>nomin oct see attach file hplnl xl hplnl xl</td>\n",
              "      <td>ham</td>\n",
              "    </tr>\n",
              "    <tr>\n",
              "      <th>10</th>\n",
              "      <td>Subject: vocable % rnd - word asceticism\\r\\nvc...</td>\n",
              "      <td>vocabl rnd word asceticismvcsc brand new stock...</td>\n",
              "      <td>spam</td>\n",
              "    </tr>\n",
              "    <tr>\n",
              "      <th>11</th>\n",
              "      <td>Subject: report 01405 !\\r\\nwffur attion brom e...</td>\n",
              "      <td>report wffur attion brom est inst siupi pgst r...</td>\n",
              "      <td>spam</td>\n",
              "    </tr>\n",
              "  </tbody>\n",
              "</table>\n",
              "</div>\n",
              "      <button class=\"colab-df-convert\" onclick=\"convertToInteractive('df-5af13f41-763e-4de7-b303-d69a9d134957')\"\n",
              "              title=\"Convert this dataframe to an interactive table.\"\n",
              "              style=\"display:none;\">\n",
              "        \n",
              "  <svg xmlns=\"http://www.w3.org/2000/svg\" height=\"24px\"viewBox=\"0 0 24 24\"\n",
              "       width=\"24px\">\n",
              "    <path d=\"M0 0h24v24H0V0z\" fill=\"none\"/>\n",
              "    <path d=\"M18.56 5.44l.94 2.06.94-2.06 2.06-.94-2.06-.94-.94-2.06-.94 2.06-2.06.94zm-11 1L8.5 8.5l.94-2.06 2.06-.94-2.06-.94L8.5 2.5l-.94 2.06-2.06.94zm10 10l.94 2.06.94-2.06 2.06-.94-2.06-.94-.94-2.06-.94 2.06-2.06.94z\"/><path d=\"M17.41 7.96l-1.37-1.37c-.4-.4-.92-.59-1.43-.59-.52 0-1.04.2-1.43.59L10.3 9.45l-7.72 7.72c-.78.78-.78 2.05 0 2.83L4 21.41c.39.39.9.59 1.41.59.51 0 1.02-.2 1.41-.59l7.78-7.78 2.81-2.81c.8-.78.8-2.07 0-2.86zM5.41 20L4 18.59l7.72-7.72 1.47 1.35L5.41 20z\"/>\n",
              "  </svg>\n",
              "      </button>\n",
              "      \n",
              "  <style>\n",
              "    .colab-df-container {\n",
              "      display:flex;\n",
              "      flex-wrap:wrap;\n",
              "      gap: 12px;\n",
              "    }\n",
              "\n",
              "    .colab-df-convert {\n",
              "      background-color: #E8F0FE;\n",
              "      border: none;\n",
              "      border-radius: 50%;\n",
              "      cursor: pointer;\n",
              "      display: none;\n",
              "      fill: #1967D2;\n",
              "      height: 32px;\n",
              "      padding: 0 0 0 0;\n",
              "      width: 32px;\n",
              "    }\n",
              "\n",
              "    .colab-df-convert:hover {\n",
              "      background-color: #E2EBFA;\n",
              "      box-shadow: 0px 1px 2px rgba(60, 64, 67, 0.3), 0px 1px 3px 1px rgba(60, 64, 67, 0.15);\n",
              "      fill: #174EA6;\n",
              "    }\n",
              "\n",
              "    [theme=dark] .colab-df-convert {\n",
              "      background-color: #3B4455;\n",
              "      fill: #D2E3FC;\n",
              "    }\n",
              "\n",
              "    [theme=dark] .colab-df-convert:hover {\n",
              "      background-color: #434B5C;\n",
              "      box-shadow: 0px 1px 3px 1px rgba(0, 0, 0, 0.15);\n",
              "      filter: drop-shadow(0px 1px 2px rgba(0, 0, 0, 0.3));\n",
              "      fill: #FFFFFF;\n",
              "    }\n",
              "  </style>\n",
              "\n",
              "      <script>\n",
              "        const buttonEl =\n",
              "          document.querySelector('#df-5af13f41-763e-4de7-b303-d69a9d134957 button.colab-df-convert');\n",
              "        buttonEl.style.display =\n",
              "          google.colab.kernel.accessAllowed ? 'block' : 'none';\n",
              "\n",
              "        async function convertToInteractive(key) {\n",
              "          const element = document.querySelector('#df-5af13f41-763e-4de7-b303-d69a9d134957');\n",
              "          const dataTable =\n",
              "            await google.colab.kernel.invokeFunction('convertToInteractive',\n",
              "                                                     [key], {});\n",
              "          if (!dataTable) return;\n",
              "\n",
              "          const docLinkHtml = 'Like what you see? Visit the ' +\n",
              "            '<a target=\"_blank\" href=https://colab.research.google.com/notebooks/data_table.ipynb>data table notebook</a>'\n",
              "            + ' to learn more about interactive tables.';\n",
              "          element.innerHTML = '';\n",
              "          dataTable['output_type'] = 'display_data';\n",
              "          await google.colab.output.renderOutput(dataTable, element);\n",
              "          const docLink = document.createElement('div');\n",
              "          docLink.innerHTML = docLinkHtml;\n",
              "          element.appendChild(docLink);\n",
              "        }\n",
              "      </script>\n",
              "    </div>\n",
              "  </div>\n",
              "  "
            ]
          },
          "metadata": {},
          "execution_count": 209
        }
      ],
      "source": [
        "# Cek Dataframe\n",
        "df[['text','textClean','label']][6:12]\n"
      ]
    },
    {
      "cell_type": "code",
      "execution_count": 224,
      "id": "6067ffeb",
      "metadata": {
        "id": "6067ffeb"
      },
      "outputs": [],
      "source": [
        "# Membuat Dataframe Baru / Data Clean\n",
        "df_baru = pd.concat([df, df.label.apply(lambda x: ''.join(x)).str.get_dummies()], axis=1)\n",
        "df_baru.drop(['text','label','Count'],axis=1, inplace=True)"
      ]
    },
    {
      "cell_type": "code",
      "execution_count": 225,
      "id": "a52bf057",
      "metadata": {
        "colab": {
          "base_uri": "https://localhost:8080/",
          "height": 424
        },
        "id": "a52bf057",
        "outputId": "1c287378-2f1e-4273-a4ca-4fa669b2e528"
      },
      "outputs": [
        {
          "output_type": "execute_result",
          "data": {
            "text/plain": [
              "                                              textClean  ham  spam\n",
              "0     enron methanol meter follow note gave monday p...    1     0\n",
              "1     hpl nom januari see attach file hplnol xl hpln...    1     0\n",
              "2     neon retreatho ho ho around wonder time year n...    1     0\n",
              "3     photoshop window offic cheap main trendingaba ...    0     1\n",
              "4     indian springsthi deal book teco pvr revenu un...    1     0\n",
              "...                                                 ...  ...   ...\n",
              "5166  put ftthe transport volum decrea oncontract th...    1     0\n",
              "5167  follow nomshpl take extra mmcf weekend tri nex...    1     0\n",
              "5168  calpin daili ga nominationjuli mention earlier...    1     0\n",
              "5169  industri worksheet august activityattach works...    1     0\n",
              "5170  import onlin bank alertdear valu citizensr ban...    0     1\n",
              "\n",
              "[5171 rows x 3 columns]"
            ],
            "text/html": [
              "\n",
              "  <div id=\"df-691b4b9e-7701-4f37-85f1-f8f114cebe1e\">\n",
              "    <div class=\"colab-df-container\">\n",
              "      <div>\n",
              "<style scoped>\n",
              "    .dataframe tbody tr th:only-of-type {\n",
              "        vertical-align: middle;\n",
              "    }\n",
              "\n",
              "    .dataframe tbody tr th {\n",
              "        vertical-align: top;\n",
              "    }\n",
              "\n",
              "    .dataframe thead th {\n",
              "        text-align: right;\n",
              "    }\n",
              "</style>\n",
              "<table border=\"1\" class=\"dataframe\">\n",
              "  <thead>\n",
              "    <tr style=\"text-align: right;\">\n",
              "      <th></th>\n",
              "      <th>textClean</th>\n",
              "      <th>ham</th>\n",
              "      <th>spam</th>\n",
              "    </tr>\n",
              "  </thead>\n",
              "  <tbody>\n",
              "    <tr>\n",
              "      <th>0</th>\n",
              "      <td>enron methanol meter follow note gave monday p...</td>\n",
              "      <td>1</td>\n",
              "      <td>0</td>\n",
              "    </tr>\n",
              "    <tr>\n",
              "      <th>1</th>\n",
              "      <td>hpl nom januari see attach file hplnol xl hpln...</td>\n",
              "      <td>1</td>\n",
              "      <td>0</td>\n",
              "    </tr>\n",
              "    <tr>\n",
              "      <th>2</th>\n",
              "      <td>neon retreatho ho ho around wonder time year n...</td>\n",
              "      <td>1</td>\n",
              "      <td>0</td>\n",
              "    </tr>\n",
              "    <tr>\n",
              "      <th>3</th>\n",
              "      <td>photoshop window offic cheap main trendingaba ...</td>\n",
              "      <td>0</td>\n",
              "      <td>1</td>\n",
              "    </tr>\n",
              "    <tr>\n",
              "      <th>4</th>\n",
              "      <td>indian springsthi deal book teco pvr revenu un...</td>\n",
              "      <td>1</td>\n",
              "      <td>0</td>\n",
              "    </tr>\n",
              "    <tr>\n",
              "      <th>...</th>\n",
              "      <td>...</td>\n",
              "      <td>...</td>\n",
              "      <td>...</td>\n",
              "    </tr>\n",
              "    <tr>\n",
              "      <th>5166</th>\n",
              "      <td>put ftthe transport volum decrea oncontract th...</td>\n",
              "      <td>1</td>\n",
              "      <td>0</td>\n",
              "    </tr>\n",
              "    <tr>\n",
              "      <th>5167</th>\n",
              "      <td>follow nomshpl take extra mmcf weekend tri nex...</td>\n",
              "      <td>1</td>\n",
              "      <td>0</td>\n",
              "    </tr>\n",
              "    <tr>\n",
              "      <th>5168</th>\n",
              "      <td>calpin daili ga nominationjuli mention earlier...</td>\n",
              "      <td>1</td>\n",
              "      <td>0</td>\n",
              "    </tr>\n",
              "    <tr>\n",
              "      <th>5169</th>\n",
              "      <td>industri worksheet august activityattach works...</td>\n",
              "      <td>1</td>\n",
              "      <td>0</td>\n",
              "    </tr>\n",
              "    <tr>\n",
              "      <th>5170</th>\n",
              "      <td>import onlin bank alertdear valu citizensr ban...</td>\n",
              "      <td>0</td>\n",
              "      <td>1</td>\n",
              "    </tr>\n",
              "  </tbody>\n",
              "</table>\n",
              "<p>5171 rows × 3 columns</p>\n",
              "</div>\n",
              "      <button class=\"colab-df-convert\" onclick=\"convertToInteractive('df-691b4b9e-7701-4f37-85f1-f8f114cebe1e')\"\n",
              "              title=\"Convert this dataframe to an interactive table.\"\n",
              "              style=\"display:none;\">\n",
              "        \n",
              "  <svg xmlns=\"http://www.w3.org/2000/svg\" height=\"24px\"viewBox=\"0 0 24 24\"\n",
              "       width=\"24px\">\n",
              "    <path d=\"M0 0h24v24H0V0z\" fill=\"none\"/>\n",
              "    <path d=\"M18.56 5.44l.94 2.06.94-2.06 2.06-.94-2.06-.94-.94-2.06-.94 2.06-2.06.94zm-11 1L8.5 8.5l.94-2.06 2.06-.94-2.06-.94L8.5 2.5l-.94 2.06-2.06.94zm10 10l.94 2.06.94-2.06 2.06-.94-2.06-.94-.94-2.06-.94 2.06-2.06.94z\"/><path d=\"M17.41 7.96l-1.37-1.37c-.4-.4-.92-.59-1.43-.59-.52 0-1.04.2-1.43.59L10.3 9.45l-7.72 7.72c-.78.78-.78 2.05 0 2.83L4 21.41c.39.39.9.59 1.41.59.51 0 1.02-.2 1.41-.59l7.78-7.78 2.81-2.81c.8-.78.8-2.07 0-2.86zM5.41 20L4 18.59l7.72-7.72 1.47 1.35L5.41 20z\"/>\n",
              "  </svg>\n",
              "      </button>\n",
              "      \n",
              "  <style>\n",
              "    .colab-df-container {\n",
              "      display:flex;\n",
              "      flex-wrap:wrap;\n",
              "      gap: 12px;\n",
              "    }\n",
              "\n",
              "    .colab-df-convert {\n",
              "      background-color: #E8F0FE;\n",
              "      border: none;\n",
              "      border-radius: 50%;\n",
              "      cursor: pointer;\n",
              "      display: none;\n",
              "      fill: #1967D2;\n",
              "      height: 32px;\n",
              "      padding: 0 0 0 0;\n",
              "      width: 32px;\n",
              "    }\n",
              "\n",
              "    .colab-df-convert:hover {\n",
              "      background-color: #E2EBFA;\n",
              "      box-shadow: 0px 1px 2px rgba(60, 64, 67, 0.3), 0px 1px 3px 1px rgba(60, 64, 67, 0.15);\n",
              "      fill: #174EA6;\n",
              "    }\n",
              "\n",
              "    [theme=dark] .colab-df-convert {\n",
              "      background-color: #3B4455;\n",
              "      fill: #D2E3FC;\n",
              "    }\n",
              "\n",
              "    [theme=dark] .colab-df-convert:hover {\n",
              "      background-color: #434B5C;\n",
              "      box-shadow: 0px 1px 3px 1px rgba(0, 0, 0, 0.15);\n",
              "      filter: drop-shadow(0px 1px 2px rgba(0, 0, 0, 0.3));\n",
              "      fill: #FFFFFF;\n",
              "    }\n",
              "  </style>\n",
              "\n",
              "      <script>\n",
              "        const buttonEl =\n",
              "          document.querySelector('#df-691b4b9e-7701-4f37-85f1-f8f114cebe1e button.colab-df-convert');\n",
              "        buttonEl.style.display =\n",
              "          google.colab.kernel.accessAllowed ? 'block' : 'none';\n",
              "\n",
              "        async function convertToInteractive(key) {\n",
              "          const element = document.querySelector('#df-691b4b9e-7701-4f37-85f1-f8f114cebe1e');\n",
              "          const dataTable =\n",
              "            await google.colab.kernel.invokeFunction('convertToInteractive',\n",
              "                                                     [key], {});\n",
              "          if (!dataTable) return;\n",
              "\n",
              "          const docLinkHtml = 'Like what you see? Visit the ' +\n",
              "            '<a target=\"_blank\" href=https://colab.research.google.com/notebooks/data_table.ipynb>data table notebook</a>'\n",
              "            + ' to learn more about interactive tables.';\n",
              "          element.innerHTML = '';\n",
              "          dataTable['output_type'] = 'display_data';\n",
              "          await google.colab.output.renderOutput(dataTable, element);\n",
              "          const docLink = document.createElement('div');\n",
              "          docLink.innerHTML = docLinkHtml;\n",
              "          element.appendChild(docLink);\n",
              "        }\n",
              "      </script>\n",
              "    </div>\n",
              "  </div>\n",
              "  "
            ]
          },
          "metadata": {},
          "execution_count": 225
        }
      ],
      "source": [
        "df_baru"
      ]
    },
    {
      "cell_type": "code",
      "execution_count": 226,
      "id": "24629cae",
      "metadata": {
        "colab": {
          "base_uri": "https://localhost:8080/"
        },
        "id": "24629cae",
        "outputId": "f4a4a5c0-d59e-4278-b803-684892add27f"
      },
      "outputs": [
        {
          "output_type": "execute_result",
          "data": {
            "text/plain": [
              "Index(['textClean', 'ham', 'spam'], dtype='object')"
            ]
          },
          "metadata": {},
          "execution_count": 226
        }
      ],
      "source": [
        "df_baru.columns"
      ]
    },
    {
      "cell_type": "code",
      "execution_count": 227,
      "id": "0ee75c93",
      "metadata": {
        "id": "0ee75c93"
      },
      "outputs": [],
      "source": [
        "judul = df_baru['textClean'].values\n",
        "label = df_baru[['ham', 'spam']].values"
      ]
    },
    {
      "cell_type": "code",
      "execution_count": 228,
      "id": "faf1981a",
      "metadata": {
        "id": "faf1981a",
        "colab": {
          "base_uri": "https://localhost:8080/"
        },
        "outputId": "e8fbfda9-e542-4700-f817-26dd7f4be942"
      },
      "outputs": [
        {
          "output_type": "execute_result",
          "data": {
            "text/plain": [
              "array([[1, 0],\n",
              "       [1, 0],\n",
              "       [1, 0],\n",
              "       ...,\n",
              "       [1, 0],\n",
              "       [1, 0],\n",
              "       [0, 1]])"
            ]
          },
          "metadata": {},
          "execution_count": 228
        }
      ],
      "source": [
        "label"
      ]
    },
    {
      "cell_type": "code",
      "execution_count": 229,
      "id": "243f318c",
      "metadata": {
        "id": "243f318c",
        "colab": {
          "base_uri": "https://localhost:8080/",
          "height": 206
        },
        "outputId": "72902463-6081-4083-fb15-6cd127183fa4"
      },
      "outputs": [
        {
          "output_type": "execute_result",
          "data": {
            "text/plain": [
              "                                           textClean  ham  spam\n",
              "0  enron methanol meter follow note gave monday p...    1     0\n",
              "1  hpl nom januari see attach file hplnol xl hpln...    1     0\n",
              "2  neon retreatho ho ho around wonder time year n...    1     0\n",
              "3  photoshop window offic cheap main trendingaba ...    0     1\n",
              "4  indian springsthi deal book teco pvr revenu un...    1     0"
            ],
            "text/html": [
              "\n",
              "  <div id=\"df-bf6e7f75-beec-47f0-99f7-c01e70342e54\">\n",
              "    <div class=\"colab-df-container\">\n",
              "      <div>\n",
              "<style scoped>\n",
              "    .dataframe tbody tr th:only-of-type {\n",
              "        vertical-align: middle;\n",
              "    }\n",
              "\n",
              "    .dataframe tbody tr th {\n",
              "        vertical-align: top;\n",
              "    }\n",
              "\n",
              "    .dataframe thead th {\n",
              "        text-align: right;\n",
              "    }\n",
              "</style>\n",
              "<table border=\"1\" class=\"dataframe\">\n",
              "  <thead>\n",
              "    <tr style=\"text-align: right;\">\n",
              "      <th></th>\n",
              "      <th>textClean</th>\n",
              "      <th>ham</th>\n",
              "      <th>spam</th>\n",
              "    </tr>\n",
              "  </thead>\n",
              "  <tbody>\n",
              "    <tr>\n",
              "      <th>0</th>\n",
              "      <td>enron methanol meter follow note gave monday p...</td>\n",
              "      <td>1</td>\n",
              "      <td>0</td>\n",
              "    </tr>\n",
              "    <tr>\n",
              "      <th>1</th>\n",
              "      <td>hpl nom januari see attach file hplnol xl hpln...</td>\n",
              "      <td>1</td>\n",
              "      <td>0</td>\n",
              "    </tr>\n",
              "    <tr>\n",
              "      <th>2</th>\n",
              "      <td>neon retreatho ho ho around wonder time year n...</td>\n",
              "      <td>1</td>\n",
              "      <td>0</td>\n",
              "    </tr>\n",
              "    <tr>\n",
              "      <th>3</th>\n",
              "      <td>photoshop window offic cheap main trendingaba ...</td>\n",
              "      <td>0</td>\n",
              "      <td>1</td>\n",
              "    </tr>\n",
              "    <tr>\n",
              "      <th>4</th>\n",
              "      <td>indian springsthi deal book teco pvr revenu un...</td>\n",
              "      <td>1</td>\n",
              "      <td>0</td>\n",
              "    </tr>\n",
              "  </tbody>\n",
              "</table>\n",
              "</div>\n",
              "      <button class=\"colab-df-convert\" onclick=\"convertToInteractive('df-bf6e7f75-beec-47f0-99f7-c01e70342e54')\"\n",
              "              title=\"Convert this dataframe to an interactive table.\"\n",
              "              style=\"display:none;\">\n",
              "        \n",
              "  <svg xmlns=\"http://www.w3.org/2000/svg\" height=\"24px\"viewBox=\"0 0 24 24\"\n",
              "       width=\"24px\">\n",
              "    <path d=\"M0 0h24v24H0V0z\" fill=\"none\"/>\n",
              "    <path d=\"M18.56 5.44l.94 2.06.94-2.06 2.06-.94-2.06-.94-.94-2.06-.94 2.06-2.06.94zm-11 1L8.5 8.5l.94-2.06 2.06-.94-2.06-.94L8.5 2.5l-.94 2.06-2.06.94zm10 10l.94 2.06.94-2.06 2.06-.94-2.06-.94-.94-2.06-.94 2.06-2.06.94z\"/><path d=\"M17.41 7.96l-1.37-1.37c-.4-.4-.92-.59-1.43-.59-.52 0-1.04.2-1.43.59L10.3 9.45l-7.72 7.72c-.78.78-.78 2.05 0 2.83L4 21.41c.39.39.9.59 1.41.59.51 0 1.02-.2 1.41-.59l7.78-7.78 2.81-2.81c.8-.78.8-2.07 0-2.86zM5.41 20L4 18.59l7.72-7.72 1.47 1.35L5.41 20z\"/>\n",
              "  </svg>\n",
              "      </button>\n",
              "      \n",
              "  <style>\n",
              "    .colab-df-container {\n",
              "      display:flex;\n",
              "      flex-wrap:wrap;\n",
              "      gap: 12px;\n",
              "    }\n",
              "\n",
              "    .colab-df-convert {\n",
              "      background-color: #E8F0FE;\n",
              "      border: none;\n",
              "      border-radius: 50%;\n",
              "      cursor: pointer;\n",
              "      display: none;\n",
              "      fill: #1967D2;\n",
              "      height: 32px;\n",
              "      padding: 0 0 0 0;\n",
              "      width: 32px;\n",
              "    }\n",
              "\n",
              "    .colab-df-convert:hover {\n",
              "      background-color: #E2EBFA;\n",
              "      box-shadow: 0px 1px 2px rgba(60, 64, 67, 0.3), 0px 1px 3px 1px rgba(60, 64, 67, 0.15);\n",
              "      fill: #174EA6;\n",
              "    }\n",
              "\n",
              "    [theme=dark] .colab-df-convert {\n",
              "      background-color: #3B4455;\n",
              "      fill: #D2E3FC;\n",
              "    }\n",
              "\n",
              "    [theme=dark] .colab-df-convert:hover {\n",
              "      background-color: #434B5C;\n",
              "      box-shadow: 0px 1px 3px 1px rgba(0, 0, 0, 0.15);\n",
              "      filter: drop-shadow(0px 1px 2px rgba(0, 0, 0, 0.3));\n",
              "      fill: #FFFFFF;\n",
              "    }\n",
              "  </style>\n",
              "\n",
              "      <script>\n",
              "        const buttonEl =\n",
              "          document.querySelector('#df-bf6e7f75-beec-47f0-99f7-c01e70342e54 button.colab-df-convert');\n",
              "        buttonEl.style.display =\n",
              "          google.colab.kernel.accessAllowed ? 'block' : 'none';\n",
              "\n",
              "        async function convertToInteractive(key) {\n",
              "          const element = document.querySelector('#df-bf6e7f75-beec-47f0-99f7-c01e70342e54');\n",
              "          const dataTable =\n",
              "            await google.colab.kernel.invokeFunction('convertToInteractive',\n",
              "                                                     [key], {});\n",
              "          if (!dataTable) return;\n",
              "\n",
              "          const docLinkHtml = 'Like what you see? Visit the ' +\n",
              "            '<a target=\"_blank\" href=https://colab.research.google.com/notebooks/data_table.ipynb>data table notebook</a>'\n",
              "            + ' to learn more about interactive tables.';\n",
              "          element.innerHTML = '';\n",
              "          dataTable['output_type'] = 'display_data';\n",
              "          await google.colab.output.renderOutput(dataTable, element);\n",
              "          const docLink = document.createElement('div');\n",
              "          docLink.innerHTML = docLinkHtml;\n",
              "          element.appendChild(docLink);\n",
              "        }\n",
              "      </script>\n",
              "    </div>\n",
              "  </div>\n",
              "  "
            ]
          },
          "metadata": {},
          "execution_count": 229
        }
      ],
      "source": [
        "df_baru.head()"
      ]
    },
    {
      "cell_type": "markdown",
      "source": [
        "### Split Data"
      ],
      "metadata": {
        "id": "HHpukOgUOn4W"
      },
      "id": "HHpukOgUOn4W"
    },
    {
      "cell_type": "code",
      "execution_count": 230,
      "id": "25901c8d",
      "metadata": {
        "id": "25901c8d"
      },
      "outputs": [],
      "source": [
        "from sklearn.model_selection import train_test_split\n",
        "judul_latih, judul_test, label_latih, label_test = train_test_split(judul, label, test_size=0.2,  random_state=42, shuffle=True)"
      ]
    },
    {
      "cell_type": "code",
      "execution_count": 231,
      "id": "255e599f",
      "metadata": {
        "id": "255e599f",
        "colab": {
          "base_uri": "https://localhost:8080/"
        },
        "outputId": "dfb437d4-222d-4c0a-9dbc-7bd31fa6f305"
      },
      "outputs": [
        {
          "output_type": "stream",
          "name": "stdout",
          "text": [
            "(1035, 100)\n"
          ]
        }
      ],
      "source": [
        "# Tokenization\n",
        "vocab_size = 10000\n",
        "max_len = 100\n",
        "trunc_type = \"post\"\n",
        "oov_tok = \"<OOV>\"\n",
        "\n",
        "tokenizer = Tokenizer(num_words=vocab_size, oov_token=oov_tok)\n",
        "tokenizer.fit_on_texts(judul_latih)\n",
        "\n",
        "word_index = tokenizer.word_index\n",
        "\n",
        "sequences_train = tokenizer.texts_to_sequences(judul_latih)\n",
        "sequences_test = tokenizer.texts_to_sequences(judul_test)\n",
        "pad_train = pad_sequences(sequences_train, maxlen=max_len, truncating=trunc_type)\n",
        "pad_test = pad_sequences(sequences_test, maxlen=max_len, truncating=trunc_type)\n",
        "\n",
        "print(pad_test.shape)"
      ]
    },
    {
      "cell_type": "code",
      "execution_count": 232,
      "id": "52206a54",
      "metadata": {
        "id": "52206a54",
        "colab": {
          "base_uri": "https://localhost:8080/"
        },
        "outputId": "1500aa71-48c6-4ccb-a5dc-8e4e16aa5ef5"
      },
      "outputs": [
        {
          "output_type": "execute_result",
          "data": {
            "text/plain": [
              "array([[   0,    0,    0, ...,   36,   11, 2110],\n",
              "       [   0,    0,    0, ...,    1,    5,    1],\n",
              "       [   0,    0,    0, ...,   39, 2048,   39],\n",
              "       ...,\n",
              "       [   1,    1,    1, ...,    1,    1,    1],\n",
              "       [   0,    0,    0, ...,    8,   50,  403],\n",
              "       [   0,    0,    0, ...,  124,   11,  224]], dtype=int32)"
            ]
          },
          "metadata": {},
          "execution_count": 232
        }
      ],
      "source": [
        "pad_train"
      ]
    },
    {
      "cell_type": "code",
      "execution_count": 234,
      "id": "40a85dce",
      "metadata": {
        "id": "40a85dce",
        "colab": {
          "base_uri": "https://localhost:8080/"
        },
        "outputId": "e2566bce-d5e2-4f41-a8a5-5f5a3f7ff8fb"
      },
      "outputs": [
        {
          "output_type": "stream",
          "name": "stdout",
          "text": [
            "Model: \"sequential_25\"\n",
            "_________________________________________________________________\n",
            " Layer (type)                Output Shape              Param #   \n",
            "=================================================================\n",
            " embedding_28 (Embedding)    (None, 100, 64)           640000    \n",
            "                                                                 \n",
            " lstm_29 (LSTM)              (None, 100, 128)          98816     \n",
            "                                                                 \n",
            " lstm_30 (LSTM)              (None, 64)                49408     \n",
            "                                                                 \n",
            " dense_50 (Dense)            (None, 128)               8320      \n",
            "                                                                 \n",
            " dropout_7 (Dropout)         (None, 128)               0         \n",
            "                                                                 \n",
            " dense_51 (Dense)            (None, 2)                 258       \n",
            "                                                                 \n",
            "=================================================================\n",
            "Total params: 796,802\n",
            "Trainable params: 796,802\n",
            "Non-trainable params: 0\n",
            "_________________________________________________________________\n"
          ]
        }
      ],
      "source": [
        "# Model Embedding\n",
        "from keras.layers import Embedding, LSTM, Dense, Dropout\n",
        "from keras.optimizers import Adam\n",
        "import tensorflow as tf\n",
        "model = tf.keras.Sequential([\n",
        "    tf.keras.layers.Embedding(input_dim=vocab_size, output_dim=64, input_length=max_len),\n",
        "    tf.keras.layers.LSTM(128, dropout=0.5, recurrent_dropout=0.5, return_sequences=True),\n",
        "    tf.keras.layers.LSTM(64, dropout=0.5, recurrent_dropout=0.5, return_sequences=False),\n",
        "    tf.keras.layers.Dense(128, activation='relu'),\n",
        "    tf.keras.layers.Dropout(0.5),\n",
        "    tf.keras.layers.Dense(2, activation='softmax')\n",
        "])\n",
        "model.compile(optimizer=Adam(lr=0.005), metrics=['accuracy'], loss='categorical_crossentropy',)\n",
        "model.summary()"
      ]
    },
    {
      "cell_type": "code",
      "execution_count": 235,
      "id": "296d0a1b",
      "metadata": {
        "id": "296d0a1b"
      },
      "outputs": [],
      "source": [
        "#callback\n",
        "class myCallback(tf.keras.callbacks.Callback):\n",
        "  def on_epoch_end(self, epoch, logs={}):\n",
        "    if(logs.get('accuracy')>0.75 and logs.get('val_accuracy')>0.75):\n",
        "      self.model.stop_training = True\n",
        "      print(\"\\n akurasi dari training set and the validation set telah terpenuhi > 75%!\")\n",
        "callbacks = myCallback()"
      ]
    },
    {
      "cell_type": "code",
      "execution_count": 236,
      "id": "2b00e05b",
      "metadata": {
        "colab": {
          "base_uri": "https://localhost:8080/"
        },
        "id": "2b00e05b",
        "outputId": "7d2dfe51-3d87-42ec-b1b4-41c563ef1543"
      },
      "outputs": [
        {
          "output_type": "stream",
          "name": "stdout",
          "text": [
            "Epoch 1/25\n",
            "\n",
            " akurasi dari training set and the validation set telah terpenuhi > 75%!\n",
            "130/130 - 73s - loss: 0.2165 - accuracy: 0.9231 - val_loss: 0.0917 - val_accuracy: 0.9739 - 73s/epoch - 565ms/step\n"
          ]
        }
      ],
      "source": [
        "num_epochs = 25\n",
        "history = model.fit(pad_train, label_latih, epochs=num_epochs, \n",
        "                    validation_data=(pad_test, label_test), verbose=2, callbacks=[callbacks])"
      ]
    },
    {
      "cell_type": "code",
      "source": [],
      "metadata": {
        "id": "gzBXcLEo9LS1"
      },
      "id": "gzBXcLEo9LS1",
      "execution_count": null,
      "outputs": []
    }
  ],
  "metadata": {
    "kernelspec": {
      "display_name": "Python 3 (ipykernel)",
      "language": "python",
      "name": "python3"
    },
    "language_info": {
      "codemirror_mode": {
        "name": "ipython",
        "version": 3
      },
      "file_extension": ".py",
      "mimetype": "text/x-python",
      "name": "python",
      "nbconvert_exporter": "python",
      "pygments_lexer": "ipython3",
      "version": "3.9.13"
    },
    "colab": {
      "provenance": []
    }
  },
  "nbformat": 4,
  "nbformat_minor": 5
}